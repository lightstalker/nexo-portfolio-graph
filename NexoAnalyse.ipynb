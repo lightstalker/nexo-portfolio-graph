{
 "cells": [
  {
   "cell_type": "code",
   "execution_count": null,
   "metadata": {},
   "outputs": [],
   "source": [
    "import csv\n",
    "from decimal import Decimal as D\n",
    "import import_ipynb\n",
    "from ipywidgets import interact, interactive, fixed, interact_manual\n",
    "import ipywidgets as widgets\n",
    "import matplotlib.pyplot as plt\n",
    "from NexoLibrary import Asset, plotGraphltvInterestLoanAmountCustom, readInPortfolioFromCsv \n",
    "%matplotlib widget"
   ]
  },
  {
   "cell_type": "markdown",
   "metadata": {
    "slideshow": {
     "slide_type": "slide"
    },
    "tags": []
   },
   "source": [
    "## Path to exported Nexo CSV"
   ]
  },
  {
   "cell_type": "code",
   "execution_count": null,
   "metadata": {},
   "outputs": [],
   "source": [
    "path = \"/home/lightstalker/Notebooks/nexo_transactions.csv\""
   ]
  },
  {
   "cell_type": "markdown",
   "metadata": {},
   "source": [
    "## Read in csv into custom variables ignoring some types for either in , out or both"
   ]
  },
  {
   "cell_type": "code",
   "execution_count": null,
   "metadata": {},
   "outputs": [],
   "source": [
    "ignoreInOut = ['CreditCardStatus','LockingTermDeposit','DepositToExchange','UnlockingTermDeposit',\n",
    "               'Repayment','TransferIn','TransferOut']\n",
    "ignoreOut = [\"Withdrawal\", \"WithdrawalCredit\", 'Deposit','Liquidation','Cashback', 'Interest', \n",
    "            'Exchange Cashback','WithdrawExchanged','InterestAdditional','FixedTermInterest','Dividend']\n",
    "\n",
    "wallet,detailedWallet,loan,types = readInPortfolioFromCsv(path, ignoreInOut, ignoreOut)"
   ]
  },
  {
   "cell_type": "code",
   "execution_count": null,
   "metadata": {},
   "outputs": [],
   "source": [
    "loan"
   ]
  },
  {
   "cell_type": "code",
   "execution_count": null,
   "metadata": {},
   "outputs": [],
   "source": [
    "allFilter = ignoreInOut + ignoreOut\n",
    "types - set(allFilter)\n",
    "#This just lists the unfiltered types we care about, mostly here if the format changes or additional types added"
   ]
  },
  {
   "cell_type": "markdown",
   "metadata": {},
   "source": [
    "# Graph Section\n",
    "### makes a graph showing interest per day for the above portfolio of assets, preset to current loan amount as size of the graph\n",
    "### format of the assets is Asset(asset name, percent per year, loan rate if used as collatoral, wallet amount, current price of asset (or predicted), amount used as collatoral"
   ]
  },
  {
   "cell_type": "code",
   "execution_count": null,
   "metadata": {},
   "outputs": [],
   "source": [
    "BTC_PRICE = 29051.50\n",
    "ETH_PRICE = 1985.30\n",
    "NEXO_PRICE =  1.32\n",
    "LINK_PRICE = 65.268999\n",
    "MATIC_PRICE = 0.63\n",
    "\n",
    "\n",
    "#convert the portfolio from before to \n",
    "def getCustomPortfolio(btc=0,eth=0,nexo=0,usdc=0,dai=0,link=0,matic=0, maxLoan=0):\n",
    "    plt.close('all')\n",
    "    custom = [\n",
    "            Asset(\"BTC\", 7.0, 50.0, float(wallet['BTC']), BTC_PRICE, collatoral=btc),\n",
    "            Asset(\"ETH\", 7.0, 50.0, float(wallet['ETH']), ETH_PRICE, collatoral=eth),\n",
    "            Asset(\"NEXO\", 7.0, 15.0,float(wallet['NEXO']), NEXO_PRICE ,True, collatoral=nexo),\n",
    "            Asset(\"USDC\", 12.0, 90.0, float(wallet['USDC']), 1,collatoral=usdc),\n",
    "            Asset(\"DAI\", 12.0, 90.0, float(wallet['DAI']), 1,collatoral=dai),\n",
    "            Asset(\"LINK\", 7.0, 30.0, float(wallet['LINK']), LINK_PRICE,collatoral=link),\n",
    "            Asset(\"MATIC\", 20.0, 33.0, float(wallet['MATIC']), MATIC_PRICE,collatoral=matic)\n",
    "        ]\n",
    "    plotGraphltvInterestLoanAmountCustom(custom, maxLoan) ##MOST GOOD\n",
    "    \n",
    "interact_manual(getCustomPortfolio, \n",
    "         btc=widgets.FloatSlider(min=0,max=float(wallet['BTC']), step=0.001),\n",
    "                eth=widgets.FloatSlider(min=0,max=float(wallet['ETH']), step=0.001),\n",
    "                nexo=widgets.FloatSlider(min=0,max=float(wallet['NEXO']), step=0.001, value=float(wallet['NEXO'])),\n",
    "                usdc=widgets.FloatSlider(min=0,max=float(wallet['USDC']), step=0.001),\n",
    "                dai=widgets.FloatSlider(min=0,max=float(wallet['DAI']), step=0.001),\n",
    "                link=widgets.FloatSlider(min=0,max=float(wallet['LINK']), step=0.001),\n",
    "                matic=widgets.FloatSlider(min=0,max=float(wallet['MATIC']), step=0.001),\n",
    "                maxLoan=widgets.IntSlider(min=0,max=100_000,value=loan), #value=loan                \n",
    "        )"
   ]
  },
  {
   "cell_type": "code",
   "execution_count": null,
   "metadata": {},
   "outputs": [],
   "source": [
    "wallet"
   ]
  },
  {
   "cell_type": "code",
   "execution_count": null,
   "metadata": {},
   "outputs": [],
   "source": []
  }
 ],
 "metadata": {
  "kernelspec": {
   "display_name": "Python 3",
   "language": "python",
   "name": "python3"
  },
  "language_info": {
   "codemirror_mode": {
    "name": "ipython",
    "version": 3
   },
   "file_extension": ".py",
   "mimetype": "text/x-python",
   "name": "python",
   "nbconvert_exporter": "python",
   "pygments_lexer": "ipython3",
   "version": "3.10.4"
  }
 },
 "nbformat": 4,
 "nbformat_minor": 4
}
